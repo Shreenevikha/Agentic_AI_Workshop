{
  "cells": [
    {
      "cell_type": "code",
      "execution_count": 29,
      "metadata": {
        "colab": {
          "base_uri": "https://localhost:8080/"
        },
        "id": "L9BmVO03r05D",
        "outputId": "7dc3bfd1-9489-4fca-bd5d-2dba3c1a385f"
      },
      "outputs": [
        {
          "name": "stdout",
          "output_type": "stream",
          "text": [
            "Requirement already satisfied: langgraph in /usr/local/lib/python3.11/dist-packages (0.5.3)\n",
            "Requirement already satisfied: langchain-groq in /usr/local/lib/python3.11/dist-packages (0.3.6)\n",
            "Requirement already satisfied: langchain-core in /usr/local/lib/python3.11/dist-packages (0.3.69)\n",
            "Requirement already satisfied: pydantic in /usr/local/lib/python3.11/dist-packages (2.11.7)\n",
            "Requirement already satisfied: typing-extensions in /usr/local/lib/python3.11/dist-packages (4.14.1)\n",
            "Requirement already satisfied: langgraph-checkpoint<3.0.0,>=2.1.0 in /usr/local/lib/python3.11/dist-packages (from langgraph) (2.1.1)\n",
            "Requirement already satisfied: langgraph-prebuilt<0.6.0,>=0.5.0 in /usr/local/lib/python3.11/dist-packages (from langgraph) (0.5.2)\n",
            "Requirement already satisfied: langgraph-sdk<0.2.0,>=0.1.42 in /usr/local/lib/python3.11/dist-packages (from langgraph) (0.1.73)\n",
            "Requirement already satisfied: xxhash>=3.5.0 in /usr/local/lib/python3.11/dist-packages (from langgraph) (3.5.0)\n",
            "Requirement already satisfied: groq<1,>=0.29.0 in /usr/local/lib/python3.11/dist-packages (from langchain-groq) (0.30.0)\n",
            "Requirement already satisfied: langsmith>=0.3.45 in /usr/local/lib/python3.11/dist-packages (from langchain-core) (0.4.6)\n",
            "Requirement already satisfied: tenacity!=8.4.0,<10.0.0,>=8.1.0 in /usr/local/lib/python3.11/dist-packages (from langchain-core) (8.5.0)\n",
            "Requirement already satisfied: jsonpatch<2.0,>=1.33 in /usr/local/lib/python3.11/dist-packages (from langchain-core) (1.33)\n",
            "Requirement already satisfied: PyYAML>=5.3 in /usr/local/lib/python3.11/dist-packages (from langchain-core) (6.0.2)\n",
            "Requirement already satisfied: packaging>=23.2 in /usr/local/lib/python3.11/dist-packages (from langchain-core) (25.0)\n",
            "Requirement already satisfied: annotated-types>=0.6.0 in /usr/local/lib/python3.11/dist-packages (from pydantic) (0.7.0)\n",
            "Requirement already satisfied: pydantic-core==2.33.2 in /usr/local/lib/python3.11/dist-packages (from pydantic) (2.33.2)\n",
            "Requirement already satisfied: typing-inspection>=0.4.0 in /usr/local/lib/python3.11/dist-packages (from pydantic) (0.4.1)\n",
            "Requirement already satisfied: anyio<5,>=3.5.0 in /usr/local/lib/python3.11/dist-packages (from groq<1,>=0.29.0->langchain-groq) (4.9.0)\n",
            "Requirement already satisfied: distro<2,>=1.7.0 in /usr/local/lib/python3.11/dist-packages (from groq<1,>=0.29.0->langchain-groq) (1.9.0)\n",
            "Requirement already satisfied: httpx<1,>=0.23.0 in /usr/local/lib/python3.11/dist-packages (from groq<1,>=0.29.0->langchain-groq) (0.28.1)\n",
            "Requirement already satisfied: sniffio in /usr/local/lib/python3.11/dist-packages (from groq<1,>=0.29.0->langchain-groq) (1.3.1)\n",
            "Requirement already satisfied: jsonpointer>=1.9 in /usr/local/lib/python3.11/dist-packages (from jsonpatch<2.0,>=1.33->langchain-core) (3.0.0)\n",
            "Requirement already satisfied: ormsgpack>=1.10.0 in /usr/local/lib/python3.11/dist-packages (from langgraph-checkpoint<3.0.0,>=2.1.0->langgraph) (1.10.0)\n",
            "Requirement already satisfied: orjson>=3.10.1 in /usr/local/lib/python3.11/dist-packages (from langgraph-sdk<0.2.0,>=0.1.42->langgraph) (3.11.0)\n",
            "Requirement already satisfied: requests<3,>=2 in /usr/local/lib/python3.11/dist-packages (from langsmith>=0.3.45->langchain-core) (2.32.3)\n",
            "Requirement already satisfied: requests-toolbelt<2.0.0,>=1.0.0 in /usr/local/lib/python3.11/dist-packages (from langsmith>=0.3.45->langchain-core) (1.0.0)\n",
            "Requirement already satisfied: zstandard<0.24.0,>=0.23.0 in /usr/local/lib/python3.11/dist-packages (from langsmith>=0.3.45->langchain-core) (0.23.0)\n",
            "Requirement already satisfied: idna>=2.8 in /usr/local/lib/python3.11/dist-packages (from anyio<5,>=3.5.0->groq<1,>=0.29.0->langchain-groq) (3.10)\n",
            "Requirement already satisfied: certifi in /usr/local/lib/python3.11/dist-packages (from httpx<1,>=0.23.0->groq<1,>=0.29.0->langchain-groq) (2025.7.14)\n",
            "Requirement already satisfied: httpcore==1.* in /usr/local/lib/python3.11/dist-packages (from httpx<1,>=0.23.0->groq<1,>=0.29.0->langchain-groq) (1.0.9)\n",
            "Requirement already satisfied: h11>=0.16 in /usr/local/lib/python3.11/dist-packages (from httpcore==1.*->httpx<1,>=0.23.0->groq<1,>=0.29.0->langchain-groq) (0.16.0)\n",
            "Requirement already satisfied: charset-normalizer<4,>=2 in /usr/local/lib/python3.11/dist-packages (from requests<3,>=2->langsmith>=0.3.45->langchain-core) (3.4.2)\n",
            "Requirement already satisfied: urllib3<3,>=1.21.1 in /usr/local/lib/python3.11/dist-packages (from requests<3,>=2->langsmith>=0.3.45->langchain-core) (2.4.0)\n"
          ]
        }
      ],
      "source": [
        "!pip install langgraph langchain-groq langchain-core pydantic typing-extensions\n"
      ]
    },
    {
      "cell_type": "code",
      "execution_count": 30,
      "metadata": {
        "colab": {
          "base_uri": "https://localhost:8080/"
        },
        "id": "8ACOWWPMr3Dx",
        "outputId": "3df6c849-56d7-4e0e-dfe7-93d1e7e94c8b"
      },
      "outputs": [
        {
          "name": "stdout",
          "output_type": "stream",
          "text": [
            "✅ All imports successful!\n"
          ]
        }
      ],
      "source": [
        "import os\n",
        "import re\n",
        "from typing import Dict, Any, List, Literal\n",
        "from dataclasses import dataclass\n",
        "import json\n",
        "\n",
        "# LangGraph and LangChain imports\n",
        "from langgraph.graph import StateGraph, END\n",
        "from langchain_core.messages import BaseMessage, HumanMessage, AIMessage\n",
        "from langchain_core.tools import tool\n",
        "from langchain_core.prompts import ChatPromptTemplate\n",
        "\n",
        "# Try Groq, fallback to OpenAI if not available\n",
        "try:\n",
        "    from langchain_groq import ChatGroq\n",
        "    LLM_PROVIDER = \"groq\"\n",
        "except ImportError:\n",
        "    try:\n",
        "        from langchain_openai import ChatOpenAI\n",
        "        LLM_PROVIDER = \"openai\"\n",
        "    except ImportError:\n",
        "        print(\"Neither Groq nor OpenAI available. Please install one of them.\")\n",
        "\n",
        "# Pydantic for type validation\n",
        "from typing_extensions import TypedDict\n",
        "\n",
        "print(\"✅ All imports successful!\")"
      ]
    },
    {
      "cell_type": "code",
      "execution_count": null,
      "metadata": {
        "colab": {
          "base_uri": "https://localhost:8080/"
        },
        "id": "Jh1wlzZXr6GK",
        "outputId": "66dd80e3-80ab-423d-8c21-36b17e44065a"
      },
      "outputs": [
        {
          "name": "stdout",
          "output_type": "stream",
          "text": [
            "✅ Configuration set!\n"
          ]
        }
      ],
      "source": [
        "class Config:\n",
        "    \"\"\"Configuration class for API keys and settings\"\"\"\n",
        "    # Set your API key here or use environment variable\n",
        "    GROQ_API_KEY = \"YOUR API_KEY\"  # Replace with your actual key\n",
        "    OPENAI_API_KEY = \"YOUR API_KEY\"  # Alternative\n",
        "    MODEL_NAME = \"mixtral-8x7b-32768\"  # Groq model\n",
        "    OPENAI_MODEL = \"gpt-3.5-turbo\"     # OpenAI model\n",
        "\n",
        "# Uncomment and set your actual API key\n",
        "# os.environ[\"GROQ_API_KEY\"] = \"your-actual-groq-api-key\"\n",
        "# os.environ[\"OPENAI_API_KEY\"] = \"your-actual-openai-api-key\"\n",
        "\n",
        "print(\"✅ Configuration set!\")"
      ]
    },
    {
      "cell_type": "code",
      "execution_count": 32,
      "metadata": {
        "colab": {
          "base_uri": "https://localhost:8080/"
        },
        "id": "zcQGBSd6sJV6",
        "outputId": "7ec183ad-fe55-4067-cd77-90bc2b467aee"
      },
      "outputs": [
        {
          "name": "stdout",
          "output_type": "stream",
          "text": [
            "✅ Mathematical tools defined!\n",
            "Available tools: ['plus', 'subtract', 'multiply', 'divide']\n"
          ]
        }
      ],
      "source": [
        "@tool\n",
        "def plus(a: float, b: float) -> float:\n",
        "    \"\"\"Add two numbers together.\"\"\"\n",
        "    return a + b\n",
        "\n",
        "@tool\n",
        "def subtract(a: float, b: float) -> float:\n",
        "    \"\"\"Subtract second number from first number.\"\"\"\n",
        "    return a - b\n",
        "\n",
        "@tool\n",
        "def multiply(a: float, b: float) -> float:\n",
        "    \"\"\"Multiply two numbers.\"\"\"\n",
        "    return a * b\n",
        "\n",
        "@tool\n",
        "def divide(a: float, b: float) -> float:\n",
        "    \"\"\"Divide first number by second number.\"\"\"\n",
        "    if b == 0:\n",
        "        raise ValueError(\"Division by zero is not allowed!\")\n",
        "    return a / b\n",
        "\n",
        "print(\"✅ Mathematical tools defined!\")\n",
        "print(f\"Available tools: {[plus.name, subtract.name, multiply.name, divide.name]}\")\n"
      ]
    },
    {
      "cell_type": "code",
      "execution_count": 33,
      "metadata": {
        "colab": {
          "base_uri": "https://localhost:8080/"
        },
        "id": "ioI6N-SYsL_b",
        "outputId": "2626eab2-eb25-40be-fb6d-8155a68dedb4"
      },
      "outputs": [
        {
          "name": "stdout",
          "output_type": "stream",
          "text": [
            "✅ Agent state defined!\n"
          ]
        }
      ],
      "source": [
        "class AgentState(TypedDict):\n",
        "    \"\"\"State for the agent conversation\"\"\"\n",
        "    messages: List[BaseMessage]\n",
        "    next_action: str\n",
        "\n",
        "print(\"✅ Agent state defined!\")"
      ]
    },
    {
      "cell_type": "code",
      "execution_count": 34,
      "metadata": {
        "colab": {
          "base_uri": "https://localhost:8080/"
        },
        "id": "47njPLVysPxj",
        "outputId": "44ac9b3b-fbeb-4f24-d4f3-33bf850ee0d6"
      },
      "outputs": [
        {
          "name": "stdout",
          "output_type": "stream",
          "text": [
            "✅ LLM setup function ready! Using: groq\n"
          ]
        }
      ],
      "source": [
        "def setup_llm():\n",
        "    \"\"\"Initialize the LLM with proper configuration\"\"\"\n",
        "    if LLM_PROVIDER == \"groq\":\n",
        "        return ChatGroq(\n",
        "            groq_api_key=Config.GROQ_API_KEY,\n",
        "            model_name=Config.MODEL_NAME,\n",
        "            temperature=0.1,\n",
        "            max_tokens=1000\n",
        "        )\n",
        "    else:  # OpenAI fallback\n",
        "        return ChatOpenAI(\n",
        "            openai_api_key=Config.OPENAI_API_KEY,\n",
        "            model_name=Config.OPENAI_MODEL,\n",
        "            temperature=0.1,\n",
        "            max_tokens=1000\n",
        "        )\n",
        "\n",
        "print(f\"✅ LLM setup function ready! Using: {LLM_PROVIDER}\")\n"
      ]
    },
    {
      "cell_type": "code",
      "execution_count": 35,
      "metadata": {
        "colab": {
          "base_uri": "https://localhost:8080/"
        },
        "id": "anqQN5ClsTCD",
        "outputId": "a1009dc3-8638-4782-bd79-5c577507df7c"
      },
      "outputs": [
        {
          "name": "stdout",
          "output_type": "stream",
          "text": [
            "✅ Query detection functions ready!\n",
            "'What is 5 plus 3?' -> Math query: True\n",
            "'Hello how are you?' -> Math query: False\n",
            "'10 times 20' -> Math query: True\n"
          ]
        }
      ],
      "source": [
        "def is_mathematical_query(query: str) -> bool:\n",
        "    \"\"\"Detect if a query is mathematical by looking for math keywords and patterns.\"\"\"\n",
        "    math_keywords = [\n",
        "        'add', 'plus', 'sum', 'addition', '+',\n",
        "        'subtract', 'minus', 'difference', 'subtraction', '-',\n",
        "        'multiply', 'times', 'product', 'multiplication', '*', 'x',\n",
        "        'divide', 'division', 'quotient', '/', '÷',\n",
        "        'calculate', 'compute', 'what is', 'how much'\n",
        "    ]\n",
        "\n",
        "    query_lower = query.lower()\n",
        "\n",
        "    # Check for math keywords\n",
        "    has_math_keywords = any(keyword in query_lower for keyword in math_keywords)\n",
        "\n",
        "    # Check for number patterns\n",
        "    has_numbers = bool(re.search(r'\\d+\\.?\\d*', query))\n",
        "\n",
        "    # Check for mathematical expressions\n",
        "    math_pattern = r'\\d+\\.?\\d*\\s*[+\\-*/×÷]\\s*\\d+\\.?\\d*'\n",
        "    has_math_expression = bool(re.search(math_pattern, query))\n",
        "\n",
        "    return has_math_keywords and has_numbers or has_math_expression\n",
        "\n",
        "def extract_math_operation(query: str) -> Dict[str, Any]:\n",
        "    \"\"\"Extract mathematical operation and numbers from query.\"\"\"\n",
        "    query_lower = query.lower()\n",
        "\n",
        "    # Extract numbers from the query\n",
        "    numbers = re.findall(r'\\d+\\.?\\d*', query)\n",
        "    numbers = [float(num) for num in numbers]\n",
        "\n",
        "    if len(numbers) < 2:\n",
        "        return {\"operation\": None, \"operands\": numbers}\n",
        "\n",
        "    # Determine operation type - FIXED THE LOGIC HERE\n",
        "    if any(word in query_lower for word in ['add', 'plus', 'sum']) or '+' in query:\n",
        "        return {\"operation\": \"plus\", \"operands\": numbers[:2]}\n",
        "    elif any(word in query_lower for word in ['subtract', 'minus']) or '-' in query:\n",
        "        return {\"operation\": \"subtract\", \"operands\": numbers[:2]}\n",
        "    elif any(word in query_lower for word in ['multiply', 'times', 'product']) or any(op in query for op in ['*', 'x']):\n",
        "        return {\"operation\": \"multiply\", \"operands\": numbers[:2]}\n",
        "    elif any(word in query_lower for word in ['divide', 'division', 'divided']) or any(op in query for op in ['/', '÷']):\n",
        "        return {\"operation\": \"divide\", \"operands\": numbers[:2]}\n",
        "\n",
        "    return {\"operation\": None, \"operands\": numbers}\n",
        "\n",
        "print(\"✅ Query detection functions ready!\")\n",
        "\n",
        "# Test the detection\n",
        "test_queries = [\"What is 5 plus 3?\", \"Hello how are you?\", \"10 times 20\"]\n",
        "for q in test_queries:\n",
        "    print(f\"'{q}' -> Math query: {is_mathematical_query(q)}\")\n"
      ]
    },
    {
      "cell_type": "code",
      "execution_count": 36,
      "metadata": {
        "colab": {
          "base_uri": "https://localhost:8080/"
        },
        "id": "c_cXRWMEsUhT",
        "outputId": "e8aa41af-3e0d-4b0d-b633-d33a6689c862"
      },
      "outputs": [
        {
          "name": "stdout",
          "output_type": "stream",
          "text": [
            "✅ Graph node functions defined!\n"
          ]
        }
      ],
      "source": [
        "def router_node(state: AgentState) -> AgentState:\n",
        "    \"\"\"Router node that decides where to send the query.\"\"\"\n",
        "    last_message = state[\"messages\"][-1]\n",
        "\n",
        "    if is_mathematical_query(last_message.content):\n",
        "        return {\n",
        "            \"messages\": state[\"messages\"],\n",
        "            \"next_action\": \"tools\"\n",
        "        }\n",
        "    else:\n",
        "        return {\n",
        "            \"messages\": state[\"messages\"],\n",
        "            \"next_action\": \"chatbot\"\n",
        "        }\n",
        "\n",
        "def chatbot_node(state: AgentState) -> AgentState:\n",
        "    \"\"\"Node for handling general queries using LLM.\"\"\"\n",
        "    last_message = state[\"messages\"][-1]\n",
        "\n",
        "    try:\n",
        "        llm = setup_llm()\n",
        "        system_prompt = \"\"\"You are a helpful AI assistant. Answer the user's question clearly and concisely.\n",
        "        If the user asks a mathematical question, let them know that you have specialized math functions available.\"\"\"\n",
        "\n",
        "        prompt = ChatPromptTemplate.from_messages([\n",
        "            (\"system\", system_prompt),\n",
        "            (\"human\", \"{input}\")\n",
        "        ])\n",
        "\n",
        "        chain = prompt | llm\n",
        "        response = chain.invoke({\"input\": last_message.content})\n",
        "        ai_response = response.content\n",
        "\n",
        "    except Exception as e:\n",
        "        # Fallback response if LLM fails\n",
        "        ai_response = f\"I'm a helpful AI assistant! You asked: '{last_message.content}'. \" \\\n",
        "                     f\"I can help with general questions and mathematical calculations. \" \\\n",
        "                     f\"(Note: LLM error - {str(e)[:50]}...)\"\n",
        "\n",
        "    updated_messages = state[\"messages\"] + [AIMessage(content=ai_response)]\n",
        "\n",
        "    return {\n",
        "        \"messages\": updated_messages,\n",
        "        \"next_action\": \"end\"\n",
        "    }\n",
        "\n",
        "def math_tools_node(state: AgentState) -> AgentState:\n",
        "    \"\"\"Node for handling mathematical operations using custom tools.\"\"\"\n",
        "    last_message = state[\"messages\"][-1]\n",
        "    query = last_message.content\n",
        "\n",
        "    # Extract mathematical operation\n",
        "    math_info = extract_math_operation(query)\n",
        "    operation = math_info[\"operation\"]\n",
        "    operands = math_info[\"operands\"]\n",
        "\n",
        "    try:\n",
        "        if operation and len(operands) >= 2:\n",
        "            a, b = operands[0], operands[1]\n",
        "\n",
        "            # Execute the appropriate mathematical function\n",
        "            if operation == \"plus\":\n",
        "                result = plus.invoke({\"a\": a, \"b\": b})\n",
        "                response = f\"The sum of {a} and {b} is {result}.\"\n",
        "            elif operation == \"subtract\":\n",
        "                result = subtract.invoke({\"a\": a, \"b\": b})\n",
        "                response = f\"The difference between {a} and {b} is {result}.\"\n",
        "            elif operation == \"multiply\":\n",
        "                result = multiply.invoke({\"a\": a, \"b\": b})\n",
        "                response = f\"The product of {a} and {b} is {result}.\"\n",
        "            elif operation == \"divide\":\n",
        "                try:\n",
        "                    result = divide.invoke({\"a\": a, \"b\": b})\n",
        "                    response = f\"The quotient of {a} divided by {b} is {result}.\"\n",
        "                except ValueError as e:\n",
        "                    response = f\"Error: {str(e)}\"\n",
        "            else:\n",
        "                response = \"I couldn't determine the mathematical operation. Please try rephrasing.\"\n",
        "        else:\n",
        "            response = \"I couldn't extract the numbers or operation. Please specify two numbers and an operation.\"\n",
        "\n",
        "    except Exception as e:\n",
        "        response = f\"I encountered an error while performing the calculation: {str(e)}\"\n",
        "\n",
        "    updated_messages = state[\"messages\"] + [AIMessage(content=response)]\n",
        "\n",
        "    return {\n",
        "        \"messages\": updated_messages,\n",
        "        \"next_action\": \"end\"\n",
        "    }\n",
        "\n",
        "print(\"✅ Graph node functions defined!\")\n"
      ]
    },
    {
      "cell_type": "code",
      "execution_count": 37,
      "metadata": {
        "colab": {
          "base_uri": "https://localhost:8080/"
        },
        "id": "NqpjBfwfsZkj",
        "outputId": "7930bf2d-32e7-4666-8b24-01c5032192c9"
      },
      "outputs": [
        {
          "name": "stdout",
          "output_type": "stream",
          "text": [
            "✅ Routing logic defined!\n"
          ]
        }
      ],
      "source": [
        "def route_after_router(state: AgentState) -> Literal[\"chatbot\", \"tools\"]:\n",
        "    \"\"\"Route based on the next_action determined by router.\"\"\"\n",
        "    return state[\"next_action\"]\n",
        "\n",
        "print(\"✅ Routing logic defined!\")"
      ]
    },
    {
      "cell_type": "code",
      "execution_count": 38,
      "metadata": {
        "colab": {
          "base_uri": "https://localhost:8080/"
        },
        "id": "ZmELBZ9asbrT",
        "outputId": "0356dfe5-c313-4b0f-fa47-d85c6f71cb5c"
      },
      "outputs": [
        {
          "name": "stdout",
          "output_type": "stream",
          "text": [
            "✅ Graph construction function ready!\n"
          ]
        }
      ],
      "source": [
        "def create_agent_graph():\n",
        "    \"\"\"Create and configure the LangGraph state graph.\"\"\"\n",
        "    # Initialize the state graph\n",
        "    workflow = StateGraph(AgentState)\n",
        "\n",
        "    # Add nodes\n",
        "    workflow.add_node(\"router\", router_node)\n",
        "    workflow.add_node(\"chatbot\", chatbot_node)\n",
        "    workflow.add_node(\"tools\", math_tools_node)\n",
        "\n",
        "    # Set entry point to router\n",
        "    workflow.set_entry_point(\"router\")\n",
        "\n",
        "    # Add conditional edges from router\n",
        "    workflow.add_conditional_edges(\n",
        "        \"router\",\n",
        "        route_after_router,\n",
        "        {\n",
        "            \"chatbot\": \"chatbot\",\n",
        "            \"tools\": \"tools\"\n",
        "        }\n",
        "    )\n",
        "\n",
        "    # Add edges to END\n",
        "    workflow.add_edge(\"chatbot\", END)\n",
        "    workflow.add_edge(\"tools\", END)\n",
        "\n",
        "    # Compile the graph\n",
        "    return workflow.compile()\n",
        "\n",
        "print(\"✅ Graph construction function ready!\")\n"
      ]
    },
    {
      "cell_type": "code",
      "execution_count": 39,
      "metadata": {
        "colab": {
          "base_uri": "https://localhost:8080/"
        },
        "id": "1QfMuLbTsezr",
        "outputId": "919a7369-9f51-4066-bdcd-c35afea8585e"
      },
      "outputs": [
        {
          "name": "stdout",
          "output_type": "stream",
          "text": [
            "✅ Agent graph created successfully!\n"
          ]
        }
      ],
      "source": [
        "agent_graph = create_agent_graph()\n",
        "print(\"✅ Agent graph created successfully!\")\n",
        "\n",
        "# Test with a simple query\n",
        "def test_agent_query(query: str):\n",
        "    \"\"\"Test the agent with a single query\"\"\"\n",
        "    print(f\"\\n🔄 Testing query: '{query}'\")\n",
        "\n",
        "    initial_state = {\n",
        "        \"messages\": [HumanMessage(content=query)],\n",
        "        \"next_action\": \"\"\n",
        "    }\n",
        "\n",
        "    try:\n",
        "        final_state = agent_graph.invoke(initial_state)\n",
        "        response = final_state[\"messages\"][-1].content\n",
        "        print(f\"🤖 Response: {response}\")\n",
        "        return response\n",
        "    except Exception as e:\n",
        "        error_msg = f\"❌ Error: {str(e)}\"\n",
        "        print(error_msg)\n",
        "        return error_msg\n"
      ]
    },
    {
      "cell_type": "code",
      "execution_count": 40,
      "metadata": {
        "colab": {
          "base_uri": "https://localhost:8080/"
        },
        "id": "nrLZWBAjsh1D",
        "outputId": "ff9fe6cd-645d-49d0-a7df-1027dce6384e"
      },
      "outputs": [
        {
          "name": "stdout",
          "output_type": "stream",
          "text": [
            "============================================================\n",
            "🧮 TESTING MATHEMATICAL OPERATIONS\n",
            "============================================================\n",
            "\n",
            "🔄 Testing query: 'What is 5 plus 3?'\n",
            "🤖 Response: The sum of 5.0 and 3.0 is 8.0.\n",
            "\n",
            "🔄 Testing query: '10 minus 4'\n",
            "🤖 Response: The difference between 10.0 and 4.0 is 6.0.\n",
            "\n",
            "🔄 Testing query: 'How much is 6 times 7?'\n",
            "🤖 Response: The product of 6.0 and 7.0 is 42.0.\n",
            "\n",
            "🔄 Testing query: 'What is 20 divided by 4?'\n",
            "🤖 Response: The quotient of 20.0 divided by 4.0 is 5.0.\n",
            "\n",
            "🔄 Testing query: 'Calculate 15 + 25'\n",
            "🤖 Response: The sum of 15.0 and 25.0 is 40.0.\n",
            "\n",
            "🔄 Testing query: '8 * 9'\n",
            "🤖 Response: The product of 8.0 and 9.0 is 72.0.\n",
            "\n",
            "🔄 Testing query: '100 / 5'\n",
            "🤖 Response: The quotient of 100.0 divided by 5.0 is 20.0.\n"
          ]
        }
      ],
      "source": [
        "print(\"=\" * 60)\n",
        "print(\"🧮 TESTING MATHEMATICAL OPERATIONS\")\n",
        "print(\"=\" * 60)\n",
        "\n",
        "math_tests = [\n",
        "    \"What is 5 plus 3?\",\n",
        "    \"10 minus 4\",\n",
        "    \"How much is 6 times 7?\",\n",
        "    \"What is 20 divided by 4?\",\n",
        "    \"Calculate 15 + 25\",\n",
        "    \"8 * 9\",\n",
        "    \"100 / 5\"\n",
        "]\n",
        "\n",
        "for query in math_tests:\n",
        "    test_agent_query(query)\n"
      ]
    },
    {
      "cell_type": "code",
      "execution_count": 41,
      "metadata": {
        "colab": {
          "base_uri": "https://localhost:8080/"
        },
        "id": "-ytFyICLslPz",
        "outputId": "aebbd29a-3328-4442-95bb-ed68b8b19d3d"
      },
      "outputs": [
        {
          "name": "stdout",
          "output_type": "stream",
          "text": [
            "\n",
            "============================================================\n",
            "💬 TESTING GENERAL CONVERSATIONS\n",
            "============================================================\n",
            "\n",
            "🔄 Testing query: 'Hello, how are you?'\n",
            "🤖 Response: I'm a helpful AI assistant! You asked: 'Hello, how are you?'. I can help with general questions and mathematical calculations. (Note: LLM error - Error code: 400 - {'error': {'message': 'The model...)\n",
            "\n",
            "🔄 Testing query: 'What is Python?'\n",
            "🤖 Response: I'm a helpful AI assistant! You asked: 'What is Python?'. I can help with general questions and mathematical calculations. (Note: LLM error - Error code: 400 - {'error': {'message': 'The model...)\n",
            "\n",
            "🔄 Testing query: 'Tell me about AI'\n",
            "🤖 Response: I'm a helpful AI assistant! You asked: 'Tell me about AI'. I can help with general questions and mathematical calculations. (Note: LLM error - Error code: 400 - {'error': {'message': 'The model...)\n",
            "\n",
            "🔄 Testing query: 'What's the weather like?'\n",
            "🤖 Response: I'm a helpful AI assistant! You asked: 'What's the weather like?'. I can help with general questions and mathematical calculations. (Note: LLM error - Error code: 400 - {'error': {'message': 'The model...)\n",
            "\n",
            "🔄 Testing query: 'Can you help me?'\n",
            "🤖 Response: I'm a helpful AI assistant! You asked: 'Can you help me?'. I can help with general questions and mathematical calculations. (Note: LLM error - Error code: 400 - {'error': {'message': 'The model...)\n"
          ]
        }
      ],
      "source": [
        "print(\"\\n\" + \"=\" * 60)\n",
        "print(\"💬 TESTING GENERAL CONVERSATIONS\")\n",
        "print(\"=\" * 60)\n",
        "\n",
        "general_tests = [\n",
        "    \"Hello, how are you?\",\n",
        "    \"What is Python?\",\n",
        "    \"Tell me about AI\",\n",
        "    \"What's the weather like?\",\n",
        "    \"Can you help me?\"\n",
        "]\n",
        "\n",
        "for query in general_tests:\n",
        "    test_agent_query(query)"
      ]
    },
    {
      "cell_type": "code",
      "execution_count": 42,
      "metadata": {
        "colab": {
          "base_uri": "https://localhost:8080/"
        },
        "id": "Va2TEOQ_sn7c",
        "outputId": "38edd4e2-b29b-493a-de04-0dd2497aafe5"
      },
      "outputs": [
        {
          "name": "stdout",
          "output_type": "stream",
          "text": [
            "\n",
            "============================================================\n",
            "⚠️  TESTING ERROR HANDLING\n",
            "============================================================\n",
            "\n",
            "🔄 Testing query: 'Divide 10 by 0'\n",
            "🤖 Response: Error: Division by zero is not allowed!\n",
            "\n",
            "🔄 Testing query: 'What is 5 plus'\n",
            "🤖 Response: I couldn't extract the numbers or operation. Please specify two numbers and an operation.\n",
            "\n",
            "🔄 Testing query: 'Calculate something'\n",
            "🤖 Response: I'm a helpful AI assistant! You asked: 'Calculate something'. I can help with general questions and mathematical calculations. (Note: LLM error - Error code: 400 - {'error': {'message': 'The model...)\n"
          ]
        }
      ],
      "source": [
        "print(\"\\n\" + \"=\" * 60)\n",
        "print(\"⚠️  TESTING ERROR HANDLING\")\n",
        "print(\"=\" * 60)\n",
        "\n",
        "error_tests = [\n",
        "    \"Divide 10 by 0\",\n",
        "    \"What is 5 plus\",  # Missing operand\n",
        "    \"Calculate something\",  # Vague request\n",
        "]\n",
        "\n",
        "for query in error_tests:\n",
        "    test_agent_query(query)"
      ]
    },
    {
      "cell_type": "code",
      "execution_count": 43,
      "metadata": {
        "colab": {
          "base_uri": "https://localhost:8080/"
        },
        "id": "e-z1F75Fs0JL",
        "outputId": "68dadd7b-3648-40b0-e637-021752c9df8e"
      },
      "outputs": [
        {
          "name": "stdout",
          "output_type": "stream",
          "text": [
            "✅ Interactive agent ready!\n"
          ]
        }
      ],
      "source": [
        "class MathematicalAgent:\n",
        "    \"\"\"Main agent class for interactive use\"\"\"\n",
        "\n",
        "    def __init__(self):\n",
        "        self.graph = create_agent_graph()\n",
        "        self.conversation_history = []\n",
        "\n",
        "    def chat(self, user_input: str) -> str:\n",
        "        \"\"\"Process user input and return response\"\"\"\n",
        "        initial_state = {\n",
        "            \"messages\": [HumanMessage(content=user_input)],\n",
        "            \"next_action\": \"\"\n",
        "        }\n",
        "\n",
        "        try:\n",
        "            final_state = self.graph.invoke(initial_state)\n",
        "            response = final_state[\"messages\"][-1].content\n",
        "\n",
        "            # Update conversation history\n",
        "            self.conversation_history.extend(final_state[\"messages\"])\n",
        "\n",
        "            return response\n",
        "        except Exception as e:\n",
        "            return f\"❌ Error processing your request: {str(e)}\"\n",
        "\n",
        "    def reset_conversation(self):\n",
        "        \"\"\"Reset conversation history\"\"\"\n",
        "        self.conversation_history = []\n",
        "\n",
        "# Create agent instance\n",
        "agent = MathematicalAgent()\n",
        "print(\"✅ Interactive agent ready!\")"
      ]
    },
    {
      "cell_type": "code",
      "execution_count": 45,
      "metadata": {
        "id": "s_hU8up-s1rU"
      },
      "outputs": [],
      "source": [
        "def manual_single_query():\n",
        "    \"\"\"Function to manually input a single query\"\"\"\n",
        "    print(\"\\n\" + \"=\"*50)\n",
        "    print(\"🎯 MANUAL SINGLE QUERY MODE\")\n",
        "    print(\"=\"*50)\n",
        "\n",
        "    user_input = input(\"👤 Enter your question: \").strip()\n",
        "\n",
        "    if user_input:\n",
        "        print(f\"\\n🔄 Processing: '{user_input}'\")\n",
        "        response = agent.chat(user_input)\n",
        "        print(f\"🤖 Response: {response}\")\n",
        "    else:\n",
        "        print(\"❌ No input provided.\")\n",
        "\n",
        "def manual_batch_queries():\n",
        "    \"\"\"Function to manually input multiple queries at once\"\"\"\n",
        "    print(\"\\n\" + \"=\"*50)\n",
        "    print(\"📝 MANUAL BATCH QUERY MODE\")\n",
        "    print(\"=\"*50)\n",
        "    print(\"Enter multiple queries (one per line).\")\n",
        "    print(\"Press Enter twice when finished.\")\n",
        "    print(\"-\" * 50)\n",
        "\n",
        "    queries = []\n",
        "    while True:\n",
        "        line = input(\"Query: \").strip()\n",
        "        if not line:\n",
        "            break\n",
        "        queries.append(line)\n",
        "\n",
        "    if queries:\n",
        "        print(f\"\\n🔄 Processing {len(queries)} queries...\")\n",
        "        print(\"-\" * 50)\n",
        "\n",
        "        for i, query in enumerate(queries, 1):\n",
        "            print(f\"\\n{i}. Query: {query}\")\n",
        "            response = agent.chat(query)\n",
        "            print(f\"   Response: {response}\")\n",
        "    else:\n",
        "        print(\"❌ No queries provided.\")\n",
        "\n",
        "def manual_interactive_chat():\n",
        "    \"\"\"Enhanced interactive chat with better controls\"\"\"\n",
        "    print(\"\\n\" + \"=\"*60)\n",
        "    print(\"🤖 INTERACTIVE MATHEMATICAL AGENT CHAT\")\n",
        "    print(\"=\"*60)\n",
        "    print(\"Commands:\")\n",
        "    print(\"  • Type your question or math problem\")\n",
        "    print(\"  • 'help' - Show available math operations\")\n",
        "    print(\"  • 'examples' - Show example queries\")\n",
        "    print(\"  • 'clear' - Clear conversation history\")\n",
        "    print(\"  • 'quit' or 'exit' - Exit chat\")\n",
        "    print(\"=\"*60)\n",
        "\n",
        "    while True:\n",
        "        try:\n",
        "            user_input = input(\"\\n👤 You: \").strip()\n",
        "\n",
        "            if user_input.lower() in ['quit', 'exit', 'bye', 'goodbye']:\n",
        "                print(\"👋 Thanks for chatting! Goodbye!\")\n",
        "                break\n",
        "\n",
        "            elif user_input.lower() == 'help':\n",
        "                print(\"🔧 Available Math Operations:\")\n",
        "                print(\"  • Addition: 'What is 5 plus 3?' or '5 + 3'\")\n",
        "                print(\"  • Subtraction: '10 minus 4' or '10 - 4'\")\n",
        "                print(\"  • Multiplication: '6 times 7' or '6 * 7'\")\n",
        "                print(\"  • Division: '20 divided by 4' or '20 / 4'\")\n",
        "                continue\n",
        "\n",
        "            elif user_input.lower() == 'examples':\n",
        "                print(\"📚 Example Queries:\")\n",
        "                print(\"Math:\")\n",
        "                print(\"  • 'What is 15 plus 25?'\")\n",
        "                print(\"  • 'Calculate 100 divided by 5'\")\n",
        "                print(\"  • '7 times 8'\")\n",
        "                print(\"General:\")\n",
        "                print(\"  • 'Hello, how are you?'\")\n",
        "                print(\"  • 'What is Python?'\")\n",
        "                print(\"  • 'Tell me a joke'\")\n",
        "                continue\n",
        "\n",
        "            elif user_input.lower() == 'clear':\n",
        "                agent.reset_conversation()\n",
        "                print(\"🧹 Conversation history cleared!\")\n",
        "                continue\n",
        "\n",
        "            elif not user_input:\n",
        "                print(\"❓ Please enter a message or command.\")\n",
        "                continue\n",
        "\n",
        "            # Process the query\n",
        "            print(\"🔄 Processing...\")\n",
        "            response = agent.chat(user_input)\n",
        "            print(f\"🤖 Agent: {response}\")\n",
        "\n",
        "        except KeyboardInterrupt:\n",
        "            print(\"\\n👋 Chat interrupted. Goodbye!\")\n",
        "            break\n",
        "        except Exception as e:\n",
        "            print(f\"❌ Error: {e}\")"
      ]
    },
    {
      "cell_type": "code",
      "execution_count": 46,
      "metadata": {
        "colab": {
          "base_uri": "https://localhost:8080/"
        },
        "id": "z2V_4UT5tA7K",
        "outputId": "99685525-b8bc-4f62-bb57-ae9540d0c0ba"
      },
      "outputs": [
        {
          "name": "stdout",
          "output_type": "stream",
          "text": [
            "🚀 QUICK FUNCTIONALITY TEST\n",
            "========================================\n",
            "\n",
            "Math: Addition:\n",
            "  Query: What is 15 plus 25?\n",
            "  Response: The sum of 15.0 and 25.0 is 40.0.\n",
            "\n",
            "Math: Subtraction:\n",
            "  Query: 20 minus 8\n",
            "  Response: The difference between 20.0 and 8.0 is 12.0.\n",
            "\n",
            "Math: Multiplication:\n",
            "  Query: 7 times 6\n",
            "  Response: The product of 7.0 and 6.0 is 42.0.\n",
            "\n",
            "Math: Division:\n",
            "  Query: 100 divided by 5\n",
            "  Response: The quotient of 100.0 divided by 5.0 is 20.0.\n",
            "\n",
            "General: Greeting:\n",
            "  Query: Hello there!\n",
            "  Response: I'm a helpful AI assistant! You asked: 'Hello there!'. I can help with general questions and mathematical calculations. (Note: LLM error - Error code: 400 - {'error': {'message': 'The model...)\n",
            "\n",
            "General: Question:\n",
            "  Query: What is Python?\n",
            "  Response: I'm a helpful AI assistant! You asked: 'What is Python?'. I can help with general questions and mathematical calculations. (Note: LLM error - Error code: 400 - {'error': {'message': 'The model...)\n",
            "\n",
            "Error: Division by zero:\n",
            "  Query: 10 divided by 0\n",
            "  Response: Error: Division by zero is not allowed!\n",
            "\n",
            "✅ Quick test completed!\n"
          ]
        }
      ],
      "source": [
        "def quick_test():\n",
        "    \"\"\"Run a quick test of all functionality\"\"\"\n",
        "    print(\"🚀 QUICK FUNCTIONALITY TEST\")\n",
        "    print(\"=\" * 40)\n",
        "\n",
        "    test_cases = [\n",
        "        (\"Math: Addition\", \"What is 15 plus 25?\"),\n",
        "        (\"Math: Subtraction\", \"20 minus 8\"),\n",
        "        (\"Math: Multiplication\", \"7 times 6\"),\n",
        "        (\"Math: Division\", \"100 divided by 5\"),\n",
        "        (\"General: Greeting\", \"Hello there!\"),\n",
        "        (\"General: Question\", \"What is Python?\"),\n",
        "        (\"Error: Division by zero\", \"10 divided by 0\")\n",
        "    ]\n",
        "\n",
        "    for test_name, query in test_cases:\n",
        "        print(f\"\\n{test_name}:\")\n",
        "        print(f\"  Query: {query}\")\n",
        "        response = agent.chat(query)\n",
        "        print(f\"  Response: {response}\")\n",
        "\n",
        "    print(\"\\n✅ Quick test completed!\")\n",
        "\n",
        "# Run quick test automatically\n",
        "quick_test()"
      ]
    },
    {
      "cell_type": "code",
      "execution_count": 47,
      "metadata": {
        "colab": {
          "base_uri": "https://localhost:8080/"
        },
        "id": "g8nL0OC-tEL0",
        "outputId": "7e234bae-d176-4328-f9bc-45e0b803bf1b"
      },
      "outputs": [
        {
          "name": "stdout",
          "output_type": "stream",
          "text": [
            "\n",
            "============================================================\n",
            "🎉 SETUP COMPLETE!\n",
            "============================================================\n",
            "Your Fixed LangGraph Mathematical Agent is ready!\n",
            "\n",
            "📋 Available Manual Input Options:\n",
            "• manual_single_query() - Enter one question\n",
            "• manual_batch_queries() - Enter multiple questions\n",
            "• manual_interactive_chat() - Start interactive chat\n",
            "• show_main_menu() - Show all options\n",
            "• agent.chat('your message') - Direct single query\n",
            "\n",
            "🚀 To start with the menu: show_main_menu()\n",
            "🚀 To start chatting directly: manual_interactive_chat()\n"
          ]
        }
      ],
      "source": [
        "def show_main_menu():\n",
        "    \"\"\"Display main menu for manual input options\"\"\"\n",
        "    print(\"\\n\" + \"=\"*60)\n",
        "    print(\"🎛️  MANUAL INPUT MENU\")\n",
        "    print(\"=\"*60)\n",
        "    print(\"Choose an option:\")\n",
        "    print(\"1. Single Query - Enter one question\")\n",
        "    print(\"2. Batch Queries - Enter multiple questions\")\n",
        "    print(\"3. Interactive Chat - Continuous conversation\")\n",
        "    print(\"4. Quick Test - Run automated tests\")\n",
        "    print(\"5. Exit\")\n",
        "    print(\"=\"*60)\n",
        "\n",
        "    while True:\n",
        "        try:\n",
        "            choice = input(\"\\n🎯 Enter your choice (1-5): \").strip()\n",
        "\n",
        "            if choice == '1':\n",
        "                manual_single_query()\n",
        "            elif choice == '2':\n",
        "                manual_batch_queries()\n",
        "            elif choice == '3':\n",
        "                manual_interactive_chat()\n",
        "            elif choice == '4':\n",
        "                quick_test()\n",
        "            elif choice == '5':\n",
        "                print(\"👋 Goodbye!\")\n",
        "                break\n",
        "            else:\n",
        "                print(\"❌ Invalid choice. Please enter 1-5.\")\n",
        "\n",
        "        except KeyboardInterrupt:\n",
        "            print(\"\\n👋 Goodbye!\")\n",
        "            break\n",
        "\n",
        "print(\"\\n\" + \"=\" * 60)\n",
        "print(\"🎉 SETUP COMPLETE!\")\n",
        "print(\"=\" * 60)\n",
        "print(\"Your Fixed LangGraph Mathematical Agent is ready!\")\n",
        "print(\"\\n📋 Available Manual Input Options:\")\n",
        "print(\"• manual_single_query() - Enter one question\")\n",
        "print(\"• manual_batch_queries() - Enter multiple questions\")\n",
        "print(\"• manual_interactive_chat() - Start interactive chat\")\n",
        "print(\"• show_main_menu() - Show all options\")\n",
        "print(\"• agent.chat('your message') - Direct single query\")\n",
        "print(\"\\n🚀 To start with the menu: show_main_menu()\")\n",
        "print(\"🚀 To start chatting directly: manual_interactive_chat()\")"
      ]
    },
    {
      "cell_type": "code",
      "execution_count": 48,
      "metadata": {
        "colab": {
          "base_uri": "https://localhost:8080/"
        },
        "id": "K8Fvl4yetQn0",
        "outputId": "d2752265-0f4a-4df8-e8a3-8b929145e48b"
      },
      "outputs": [
        {
          "name": "stdout",
          "output_type": "stream",
          "text": [
            "\n",
            "============================================================\n",
            "🤖 INTERACTIVE MATHEMATICAL AGENT CHAT\n",
            "============================================================\n",
            "Commands:\n",
            "  • Type your question or math problem\n",
            "  • 'help' - Show available math operations\n",
            "  • 'examples' - Show example queries\n",
            "  • 'clear' - Clear conversation history\n",
            "  • 'quit' or 'exit' - Exit chat\n",
            "============================================================\n",
            "\n",
            "👤 You: 20 minus 8\n",
            "🔄 Processing...\n",
            "🤖 Agent: The difference between 20.0 and 8.0 is 12.0.\n",
            "\n",
            "👤 You: 56 plus 56\n",
            "🔄 Processing...\n",
            "🤖 Agent: The sum of 56.0 and 56.0 is 112.0.\n",
            "\n",
            "👤 You: exit\n",
            "👋 Thanks for chatting! Goodbye!\n"
          ]
        }
      ],
      "source": [
        "manual_interactive_chat()"
      ]
    },
    {
      "cell_type": "code",
      "execution_count": 49,
      "metadata": {
        "colab": {
          "base_uri": "https://localhost:8080/"
        },
        "id": "9t9VEeOIt6hk",
        "outputId": "256fa892-5093-47fa-9596-7e907c584777"
      },
      "outputs": [
        {
          "name": "stdout",
          "output_type": "stream",
          "text": [
            "\n",
            "============================================================\n",
            "🎛️  MANUAL INPUT MENU\n",
            "============================================================\n",
            "Choose an option:\n",
            "1. Single Query - Enter one question\n",
            "2. Batch Queries - Enter multiple questions\n",
            "3. Interactive Chat - Continuous conversation\n",
            "4. Quick Test - Run automated tests\n",
            "5. Exit\n",
            "============================================================\n",
            "\n",
            "🎯 Enter your choice (1-5): 1\n",
            "\n",
            "==================================================\n",
            "🎯 MANUAL SINGLE QUERY MODE\n",
            "==================================================\n",
            "👤 Enter your question: 1200 divided by 10\n",
            "\n",
            "🔄 Processing: '1200 divided by 10'\n",
            "🤖 Response: The quotient of 1200.0 divided by 10.0 is 120.0.\n",
            "\n",
            "🎯 Enter your choice (1-5): 5\n",
            "👋 Goodbye!\n"
          ]
        }
      ],
      "source": [
        "show_main_menu()"
      ]
    }
  ],
  "metadata": {
    "colab": {
      "provenance": []
    },
    "kernelspec": {
      "display_name": "Python 3",
      "name": "python3"
    },
    "language_info": {
      "name": "python"
    }
  },
  "nbformat": 4,
  "nbformat_minor": 0
}
